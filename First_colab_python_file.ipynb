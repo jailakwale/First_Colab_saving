{
  "nbformat": 4,
  "nbformat_minor": 0,
  "metadata": {
    "colab": {
      "name": "First_colab_python_file",
      "provenance": [],
      "collapsed_sections": []
    },
    "kernelspec": {
      "name": "python3",
      "display_name": "Python 3"
    },
    "language_info": {
      "name": "python"
    }
  },
  "cells": [
    {
      "cell_type": "code",
      "metadata": {
        "id": "utN73EUXLgUt"
      },
      "source": [
        "#first exercise"
      ],
      "execution_count": null,
      "outputs": []
    },
    {
      "cell_type": "markdown",
      "metadata": {
        "id": "0zmfXm38MpA4"
      },
      "source": [
        "#make first header\n"
      ]
    },
    {
      "cell_type": "markdown",
      "metadata": {
        "id": "IP8Pz5sGNKsy"
      },
      "source": [
        "##1.1 Colab"
      ]
    },
    {
      "cell_type": "code",
      "metadata": {
        "id": "b1P2pvE6NYR0",
        "colab": {
          "base_uri": "https://localhost:8080/"
        },
        "outputId": "a3b6c335-e8ed-4388-a8bd-092c8f8864f9"
      },
      "source": [
        "from google.colab import drive\n",
        "\n",
        "drive.mount(\"/content/drive/\")\n",
        "\n"
      ],
      "execution_count": null,
      "outputs": [
        {
          "output_type": "stream",
          "name": "stdout",
          "text": [
            "Mounted at /content/drive/\n"
          ]
        }
      ]
    },
    {
      "cell_type": "code",
      "metadata": {
        "id": "IcjQ5cYvQE_i"
      },
      "source": [
        "# fist go into the folder where you want to list the files\n",
        "!cd drive\n",
        "\n",
        "\n"
      ],
      "execution_count": 11,
      "outputs": []
    },
    {
      "cell_type": "code",
      "metadata": {
        "colab": {
          "base_uri": "https://localhost:8080/"
        },
        "id": "SuIwVN2xRE27",
        "outputId": "db1747ea-71e2-449d-c5d9-5b31f7017f21"
      },
      "source": [
        "#list all files in this folder\n",
        "!ls"
      ],
      "execution_count": 13,
      "outputs": [
        {
          "output_type": "stream",
          "name": "stdout",
          "text": [
            "drive  sample_data\n"
          ]
        }
      ]
    },
    {
      "cell_type": "code",
      "metadata": {
        "colab": {
          "base_uri": "https://localhost:8080/"
        },
        "id": "IXTmVwX4SaHe",
        "outputId": "6e6e02f6-9527-4505-d76c-83deeadc2d79"
      },
      "source": [
        "#check where we are\n",
        "!pwd"
      ],
      "execution_count": 17,
      "outputs": [
        {
          "output_type": "stream",
          "name": "stdout",
          "text": [
            "/content\n"
          ]
        }
      ]
    },
    {
      "cell_type": "code",
      "metadata": {
        "colab": {
          "base_uri": "https://localhost:8080/"
        },
        "id": "aCqZD4vVS4ln",
        "outputId": "d2ac7dba-8fe7-4bad-8b1e-f90fb798ffbd"
      },
      "source": [
        "#list all folders in content\n",
        "!ls /content"
      ],
      "execution_count": 18,
      "outputs": [
        {
          "output_type": "stream",
          "name": "stdout",
          "text": [
            "drive  sample_data\n"
          ]
        }
      ]
    },
    {
      "cell_type": "code",
      "metadata": {
        "colab": {
          "base_uri": "https://localhost:8080/"
        },
        "id": "YVmqje8nTDni",
        "outputId": "3d67483a-56cc-4a5e-87b6-7624c4f9d4a8"
      },
      "source": [
        "#list of all files in MyDrive\n",
        "!ls /content/drive/MyDrive"
      ],
      "execution_count": 22,
      "outputs": [
        {
          "output_type": "stream",
          "name": "stdout",
          "text": [
            " colab_exercise_data.xlsx\n",
            "'Colab Notebooks'\n",
            "'Fiche Projet Master MEDAS (1).gdoc'\n",
            "'Fiche Projet Master MEDAS.gdoc'\n",
            "'Fiche Projet Master MEDAS.pdf'\n",
            " MotivationLetter_07.09.15_textonly.docx\n",
            " MotivationLetter_07.09.15_textonly.docx.gdoc\n",
            " Programmes\n"
          ]
        }
      ]
    },
    {
      "cell_type": "code",
      "metadata": {
        "colab": {
          "base_uri": "https://localhost:8080/"
        },
        "id": "hb80JEc2TLFi",
        "outputId": "8f265e4d-5346-4a79-a8bd-77740c0c0a50"
      },
      "source": [
        "#check where we are\n",
        "!pwd"
      ],
      "execution_count": 20,
      "outputs": [
        {
          "output_type": "stream",
          "name": "stdout",
          "text": [
            "/content\n"
          ]
        }
      ]
    },
    {
      "cell_type": "code",
      "metadata": {
        "colab": {
          "base_uri": "https://localhost:8080/"
        },
        "id": "comJXHGHQr_I",
        "outputId": "8afaac24-9a86-4ed7-a751-867765b07127"
      },
      "source": [
        "#see what is in Mydrive, Colab is case sensitive\n",
        "\n",
        "!cd MyDrive\n"
      ],
      "execution_count": 16,
      "outputs": [
        {
          "output_type": "stream",
          "name": "stdout",
          "text": [
            "/bin/bash: line 0: cd: MyDrive: No such file or directory\n"
          ]
        }
      ]
    },
    {
      "cell_type": "code",
      "metadata": {
        "id": "E9K2czh2T0Jd"
      },
      "source": [
        "#try to delete a cell and recover it, you have to press on ctrl \"kepp it pressed\" + m + z\n"
      ],
      "execution_count": null,
      "outputs": []
    },
    {
      "cell_type": "code",
      "metadata": {
        "id": "n9rVmBUPUcyn"
      },
      "source": [
        "#upload the iris data set, using the import button does not save them in the drive, they are only saved locally\n",
        "\n"
      ],
      "execution_count": null,
      "outputs": []
    },
    {
      "cell_type": "code",
      "metadata": {
        "colab": {
          "base_uri": "https://localhost:8080/"
        },
        "id": "GIfqzo18WwuV",
        "outputId": "9b13d449-3fac-44fd-f05b-04b44e1a45cf"
      },
      "source": [
        "#in order to download directly on the machine\n",
        "!wget https://archive.ics.uci.edu/ml/machine-learning-databases/iris/iris.data"
      ],
      "execution_count": 23,
      "outputs": [
        {
          "output_type": "stream",
          "name": "stdout",
          "text": [
            "--2021-11-24 09:57:50--  https://archive.ics.uci.edu/ml/machine-learning-databases/iris/iris.data\n",
            "Resolving archive.ics.uci.edu (archive.ics.uci.edu)... 128.195.10.252\n",
            "Connecting to archive.ics.uci.edu (archive.ics.uci.edu)|128.195.10.252|:443... connected.\n",
            "HTTP request sent, awaiting response... 200 OK\n",
            "Length: 4551 (4.4K) [application/x-httpd-php]\n",
            "Saving to: ‘iris.data.1’\n",
            "\n",
            "\riris.data.1           0%[                    ]       0  --.-KB/s               \riris.data.1         100%[===================>]   4.44K  --.-KB/s    in 0s      \n",
            "\n",
            "2021-11-24 09:57:50 (99.8 MB/s) - ‘iris.data.1’ saved [4551/4551]\n",
            "\n"
          ]
        }
      ]
    },
    {
      "cell_type": "markdown",
      "metadata": {
        "id": "GMxctyAPZO2N"
      },
      "source": [
        "##see where the files are saved"
      ]
    },
    {
      "cell_type": "code",
      "metadata": {
        "colab": {
          "base_uri": "https://localhost:8080/"
        },
        "id": "unWpwOrAYd6w",
        "outputId": "f6f217e8-1a3b-4c60-9045-2f4cc4a189ac"
      },
      "source": [
        "#see if it has worked, it is called iris.data1 beacuse there is already another \n",
        "#file called iris.data\n",
        "!ls"
      ],
      "execution_count": 24,
      "outputs": [
        {
          "output_type": "stream",
          "name": "stdout",
          "text": [
            "drive  iris.data  iris.data.1  iris.names  sample_data\n"
          ]
        }
      ]
    },
    {
      "cell_type": "markdown",
      "metadata": {
        "id": "rntef6KUZcUv"
      },
      "source": [
        "## Until now everything is saved on the local drive"
      ]
    },
    {
      "cell_type": "code",
      "metadata": {
        "id": "EHUNjcaYRwSC"
      },
      "source": [
        "# in order to move the file from the local drive to MyDrive\n",
        "!mv iris.data /content/drive/MyDrive"
      ],
      "execution_count": 25,
      "outputs": []
    },
    {
      "cell_type": "code",
      "metadata": {
        "colab": {
          "base_uri": "https://localhost:8080/"
        },
        "id": "9BqTTtZMav5J",
        "outputId": "fff40c81-887d-45b3-8dce-db8cad073d54"
      },
      "source": [
        "# see if the file is at the right place\n",
        "!ls /content/drive/MyDrive"
      ],
      "execution_count": 27,
      "outputs": [
        {
          "output_type": "stream",
          "name": "stdout",
          "text": [
            " colab_exercise_data.xlsx\n",
            "'Colab Notebooks'\n",
            "'Fiche Projet Master MEDAS (1).gdoc'\n",
            "'Fiche Projet Master MEDAS.gdoc'\n",
            "'Fiche Projet Master MEDAS.pdf'\n",
            " iris.data\n",
            " MotivationLetter_07.09.15_textonly.docx\n",
            " MotivationLetter_07.09.15_textonly.docx.gdoc\n",
            " Programmes\n"
          ]
        }
      ]
    },
    {
      "cell_type": "code",
      "metadata": {
        "id": "pduqEiX_a2DD"
      },
      "source": [
        ""
      ],
      "execution_count": null,
      "outputs": []
    },
    {
      "cell_type": "code",
      "metadata": {
        "id": "H2lsXpTAbh33"
      },
      "source": [
        ""
      ],
      "execution_count": null,
      "outputs": []
    }
  ]
}