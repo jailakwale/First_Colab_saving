{
  "nbformat": 4,
  "nbformat_minor": 0,
  "metadata": {
    "colab": {
      "name": "Untitled1.ipynb",
      "provenance": [],
      "authorship_tag": "ABX9TyNxvw+zZSIMCtQAsxjlbAsU",
      "include_colab_link": true
    },
    "kernelspec": {
      "name": "python3",
      "display_name": "Python 3"
    },
    "language_info": {
      "name": "python"
    }
  },
  "cells": [
    {
      "cell_type": "markdown",
      "metadata": {
        "id": "view-in-github",
        "colab_type": "text"
      },
      "source": [
        "<a href=\"https://colab.research.google.com/github/SteBaum/First_Colab_saving/blob/main/Untitled1.ipynb\" target=\"_parent\"><img src=\"https://colab.research.google.com/assets/colab-badge.svg\" alt=\"Open In Colab\"/></a>"
      ]
    },
    {
      "cell_type": "code",
      "metadata": {
        "colab": {
          "base_uri": "https://localhost:8080/"
        },
        "id": "6ef0vvIlg5MH",
        "outputId": "e76d80cf-8523-4b04-b593-8adb6df41e29"
      },
      "source": [
        "from google.colab import drive\n",
        "\n",
        "drive.mount(\"/content/drive/\")"
      ],
      "execution_count": 2,
      "outputs": [
        {
          "output_type": "stream",
          "name": "stdout",
          "text": [
            "Mounted at /content/drive/\n"
          ]
        }
      ]
    },
    {
      "cell_type": "code",
      "metadata": {
        "colab": {
          "base_uri": "https://localhost:8080/"
        },
        "id": "A-v8FQGrgep4",
        "outputId": "b0c6583e-6e84-4184-a5e6-fd6e2b797810"
      },
      "source": [
        "#cloning repo\n",
        "!git clone https://github.com/SteBaum/First_Colab_saving\n"
      ],
      "execution_count": 3,
      "outputs": [
        {
          "output_type": "stream",
          "name": "stdout",
          "text": [
            "fatal: destination path 'First_Colab_saving' already exists and is not an empty directory.\n"
          ]
        }
      ]
    },
    {
      "cell_type": "markdown",
      "metadata": {
        "id": "HSC6tvdehHJA"
      },
      "source": [
        "##Variables and functions"
      ]
    },
    {
      "cell_type": "markdown",
      "metadata": {
        "id": "5J3r468Rsw-7"
      },
      "source": [
        "###Basic operations"
      ]
    },
    {
      "cell_type": "code",
      "metadata": {
        "colab": {
          "base_uri": "https://localhost:8080/"
        },
        "id": "xYTWna19iCPF",
        "outputId": "2e87669f-4211-4f00-fe34-257c5cbc3c03"
      },
      "source": [
        "print(1+2)"
      ],
      "execution_count": 4,
      "outputs": [
        {
          "output_type": "stream",
          "name": "stdout",
          "text": [
            "3\n"
          ]
        }
      ]
    },
    {
      "cell_type": "markdown",
      "metadata": {
        "id": "s1QFD4_ekvTl"
      },
      "source": [
        "list of natural number $\\mathbb{Z}$\n",
        "\n"
      ]
    },
    {
      "cell_type": "code",
      "metadata": {
        "colab": {
          "base_uri": "https://localhost:8080/"
        },
        "id": "SLM9U_uJhKML",
        "outputId": "2396d24d-a233-48d7-e098-c0cbf6d24fb3"
      },
      "source": [
        "#integer is a number in Z\n",
        "#A float is a decimal number\n",
        "#the type of an operation can be checked using 'type'\n",
        "type(1+1.5)"
      ],
      "execution_count": 5,
      "outputs": [
        {
          "output_type": "execute_result",
          "data": {
            "text/plain": [
              "float"
            ]
          },
          "metadata": {},
          "execution_count": 5
        }
      ]
    },
    {
      "cell_type": "code",
      "metadata": {
        "id": "dPXIl7Rzj0Rx"
      },
      "source": [
        "#\n",
        "1/2."
      ],
      "execution_count": null,
      "outputs": []
    },
    {
      "cell_type": "code",
      "metadata": {
        "colab": {
          "base_uri": "https://localhost:8080/"
        },
        "id": "h-EQS3GpkG8r",
        "outputId": "0bd81df4-21e5-4479-9c3e-d7d1e9eda387"
      },
      "source": [
        "10*10"
      ],
      "execution_count": 10,
      "outputs": [
        {
          "output_type": "execute_result",
          "data": {
            "text/plain": [
              "100"
            ]
          },
          "metadata": {},
          "execution_count": 10
        }
      ]
    },
    {
      "cell_type": "markdown",
      "metadata": {
        "id": "r6KTAp4Fsm5O"
      },
      "source": [
        "###Concatination"
      ]
    },
    {
      "cell_type": "code",
      "metadata": {
        "colab": {
          "base_uri": "https://localhost:8080/",
          "height": 35
        },
        "id": "xjae0YA4kKKZ",
        "outputId": "0a80234e-2ec2-4e94-8d62-50a19a7c8c8f"
      },
      "source": [
        "#Concatinate string can be done using one or two quaotation marks\n",
        "'Hello'+ ' World'"
      ],
      "execution_count": 13,
      "outputs": [
        {
          "output_type": "execute_result",
          "data": {
            "application/vnd.google.colaboratory.intrinsic+json": {
              "type": "string"
            },
            "text/plain": [
              "'Hello World'"
            ]
          },
          "metadata": {},
          "execution_count": 13
        }
      ]
    },
    {
      "cell_type": "code",
      "metadata": {
        "colab": {
          "base_uri": "https://localhost:8080/",
          "height": 35
        },
        "id": "rumgT_iykatl",
        "outputId": "842812de-7f5b-4562-d9c6-d46269006670"
      },
      "source": [
        "#concatinate strings and numbers\n",
        "'hello'+'3'"
      ],
      "execution_count": 16,
      "outputs": [
        {
          "output_type": "execute_result",
          "data": {
            "application/vnd.google.colaboratory.intrinsic+json": {
              "type": "string"
            },
            "text/plain": [
              "'hello3'"
            ]
          },
          "metadata": {},
          "execution_count": 16
        }
      ]
    },
    {
      "cell_type": "code",
      "metadata": {
        "colab": {
          "base_uri": "https://localhost:8080/"
        },
        "id": "vCXDCtSxk9D6",
        "outputId": "335808df-8304-4126-a55e-a1c3ccfdd712"
      },
      "source": [
        "#variation to concatinate strings and numbers\n",
        "print('hello',1)"
      ],
      "execution_count": 17,
      "outputs": [
        {
          "output_type": "stream",
          "name": "stdout",
          "text": [
            "hello 1\n"
          ]
        }
      ]
    },
    {
      "cell_type": "code",
      "metadata": {
        "id": "HXjnoGvJmrcm"
      },
      "source": [
        "#Declaring the variables\n",
        "name='bob'\n",
        "age=20\n"
      ],
      "execution_count": 21,
      "outputs": []
    },
    {
      "cell_type": "code",
      "metadata": {
        "colab": {
          "base_uri": "https://localhost:8080/",
          "height": 35
        },
        "id": "_vcv3Rd1lOb7",
        "outputId": "77456856-c4d0-41cc-f378-14b59c33cb3e"
      },
      "source": [
        "#variation to concatinate strings and numbers\n",
        "\n",
        "\"Hello, {}. You are {}.\".format(name,age)"
      ],
      "execution_count": 18,
      "outputs": [
        {
          "output_type": "execute_result",
          "data": {
            "application/vnd.google.colaboratory.intrinsic+json": {
              "type": "string"
            },
            "text/plain": [
              "'Hello, bob. You are 20.'"
            ]
          },
          "metadata": {},
          "execution_count": 18
        }
      ]
    },
    {
      "cell_type": "code",
      "metadata": {
        "colab": {
          "base_uri": "https://localhost:8080/",
          "height": 35
        },
        "id": "6GsYG28alk1A",
        "outputId": "d5f91e84-bc1f-44f5-d49f-0562ad9755d0"
      },
      "source": [
        "#variation to concatinate strings and numbers using a fstring\n",
        "\n",
        "f\"Hello, {name}. You are {age}.\""
      ],
      "execution_count": 20,
      "outputs": [
        {
          "output_type": "execute_result",
          "data": {
            "application/vnd.google.colaboratory.intrinsic+json": {
              "type": "string"
            },
            "text/plain": [
              "'Hello, bob. You are 20.'"
            ]
          },
          "metadata": {},
          "execution_count": 20
        }
      ]
    },
    {
      "cell_type": "code",
      "metadata": {
        "colab": {
          "base_uri": "https://localhost:8080/",
          "height": 35
        },
        "id": "XEfXKdolmF-L",
        "outputId": "b1ab6766-d4f6-4e93-a270-ded906060b61"
      },
      "source": [
        "#multiply strings and numbers\n",
        "10*'Hello'"
      ],
      "execution_count": 22,
      "outputs": [
        {
          "output_type": "execute_result",
          "data": {
            "application/vnd.google.colaboratory.intrinsic+json": {
              "type": "string"
            },
            "text/plain": [
              "'HelloHelloHelloHelloHelloHelloHelloHelloHelloHello'"
            ]
          },
          "metadata": {},
          "execution_count": 22
        }
      ]
    },
    {
      "cell_type": "code",
      "metadata": {
        "id": "uvPyl-whm7T1"
      },
      "source": [
        "#fisrt function concatination\n",
        "#you cannot concatinate strings and numbers\n",
        "def concatinate_str_number(a,b):\n",
        "  b = str(b)\n",
        "  return a+b"
      ],
      "execution_count": 25,
      "outputs": []
    },
    {
      "cell_type": "code",
      "metadata": {
        "colab": {
          "base_uri": "https://localhost:8080/",
          "height": 35
        },
        "id": "lBqSmEgfpCUN",
        "outputId": "9eb7f8ab-1eb2-4054-eadf-e4f435b4116e"
      },
      "source": [
        "concatinate_str_number(name, age)"
      ],
      "execution_count": 26,
      "outputs": [
        {
          "output_type": "execute_result",
          "data": {
            "application/vnd.google.colaboratory.intrinsic+json": {
              "type": "string"
            },
            "text/plain": [
              "'bob20'"
            ]
          },
          "metadata": {},
          "execution_count": 26
        }
      ]
    },
    {
      "cell_type": "code",
      "metadata": {
        "id": "8PWtI-iWpjuZ"
      },
      "source": [
        "#Second concatination function\n",
        "#the function checks the type of all variables and transforms it into strings\n",
        "def concatinate_str_nb(nb,my_str):\n",
        "  try:\n",
        "      return str(nb)+my_str\n",
        "  except:\n",
        "    isinstance(my_str,str) is False or isinstance(nb,float) is false\n",
        "    return str(nb)+str(my_str)\n"
      ],
      "execution_count": 31,
      "outputs": []
    },
    {
      "cell_type": "code",
      "metadata": {
        "id": "wo30AyXKp6Jc"
      },
      "source": [
        "# A third concatination function\n",
        "def concat_number(a,b):\n",
        "  print('{}{}'.format(a,b))\n"
      ],
      "execution_count": 28,
      "outputs": []
    },
    {
      "cell_type": "code",
      "metadata": {
        "colab": {
          "base_uri": "https://localhost:8080/"
        },
        "id": "sBNlSQg_qG7N",
        "outputId": "c2064db7-0f7c-4cb8-feec-b576372c6495"
      },
      "source": [
        "result = concat_number(age, name)"
      ],
      "execution_count": 29,
      "outputs": [
        {
          "output_type": "stream",
          "name": "stdout",
          "text": [
            "20bob\n"
          ]
        }
      ]
    },
    {
      "cell_type": "code",
      "metadata": {
        "id": "ERkhyniBqYgk"
      },
      "source": [
        "result2 = concatinate_str_nb(age,name)"
      ],
      "execution_count": 32,
      "outputs": []
    },
    {
      "cell_type": "code",
      "metadata": {
        "colab": {
          "base_uri": "https://localhost:8080/",
          "height": 35
        },
        "id": "54wWNFo4qk_E",
        "outputId": "de3b858a-0aa9-443e-b53c-f73a372255f1"
      },
      "source": [
        "result2"
      ],
      "execution_count": 33,
      "outputs": [
        {
          "output_type": "execute_result",
          "data": {
            "application/vnd.google.colaboratory.intrinsic+json": {
              "type": "string"
            },
            "text/plain": [
              "'20bob'"
            ]
          },
          "metadata": {},
          "execution_count": 33
        }
      ]
    },
    {
      "cell_type": "markdown",
      "metadata": {
        "id": "n4Ei5tuVq7Qd"
      },
      "source": [
        "If you want to **reuse** a function you need to use the return function\n",
        "print only if the function is used once\n",
        "\n",
        "**Avoid reusing** the names defined in the functions as name of variables (this avoids confusion)\n",
        "\n",
        "don't use the default name (e.g. int, str)"
      ]
    },
    {
      "cell_type": "code",
      "metadata": {
        "id": "pjEpgwcKq5ih"
      },
      "source": [
        ""
      ],
      "execution_count": null,
      "outputs": []
    }
  ]
}